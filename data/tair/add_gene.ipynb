{
 "cells": [
  {
   "cell_type": "code",
   "execution_count": 1,
   "metadata": {},
   "outputs": [],
   "source": [
    "import pandas as pd"
   ]
  },
  {
   "cell_type": "code",
   "execution_count": 2,
   "metadata": {},
   "outputs": [
    {
     "data": {
      "text/html": [
       "<div>\n",
       "<style scoped>\n",
       "    .dataframe tbody tr th:only-of-type {\n",
       "        vertical-align: middle;\n",
       "    }\n",
       "\n",
       "    .dataframe tbody tr th {\n",
       "        vertical-align: top;\n",
       "    }\n",
       "\n",
       "    .dataframe thead th {\n",
       "        text-align: right;\n",
       "    }\n",
       "</style>\n",
       "<table border=\"1\" class=\"dataframe\">\n",
       "  <thead>\n",
       "    <tr style=\"text-align: right;\">\n",
       "      <th></th>\n",
       "      <th>chrom</th>\n",
       "      <th>pos</th>\n",
       "      <th>marker_id</th>\n",
       "    </tr>\n",
       "  </thead>\n",
       "  <tbody>\n",
       "    <tr>\n",
       "      <th>0</th>\n",
       "      <td>1</td>\n",
       "      <td>73</td>\n",
       "      <td>73_1</td>\n",
       "    </tr>\n",
       "    <tr>\n",
       "      <th>1</th>\n",
       "      <td>1</td>\n",
       "      <td>92</td>\n",
       "      <td>92_1</td>\n",
       "    </tr>\n",
       "  </tbody>\n",
       "</table>\n",
       "</div>"
      ],
      "text/plain": [
       "   chrom  pos marker_id\n",
       "0      1   73      73_1\n",
       "1      1   92      92_1"
      ]
     },
     "execution_count": 2,
     "metadata": {},
     "output_type": "execute_result"
    }
   ],
   "source": [
    "chrom_pos_marker = pd.read_csv(\"chrom_pos_marker_id.tsv\",sep=\"\\t\",names=[\"chrom\",\"pos\",\"marker_id\"])"
   ]
  },
  {
   "cell_type": "code",
   "execution_count": 3,
   "metadata": {},
   "outputs": [
    {
     "data": {
      "text/html": [
       "<div>\n",
       "<style scoped>\n",
       "    .dataframe tbody tr th:only-of-type {\n",
       "        vertical-align: middle;\n",
       "    }\n",
       "\n",
       "    .dataframe tbody tr th {\n",
       "        vertical-align: top;\n",
       "    }\n",
       "\n",
       "    .dataframe thead th {\n",
       "        text-align: right;\n",
       "    }\n",
       "</style>\n",
       "<table border=\"1\" class=\"dataframe\">\n",
       "  <thead>\n",
       "    <tr style=\"text-align: right;\">\n",
       "      <th></th>\n",
       "      <th>chrom</th>\n",
       "      <th>start</th>\n",
       "      <th>end</th>\n",
       "      <th>gene</th>\n",
       "    </tr>\n",
       "  </thead>\n",
       "  <tbody>\n",
       "    <tr>\n",
       "      <th>0</th>\n",
       "      <td>1</td>\n",
       "      <td>3631</td>\n",
       "      <td>5899</td>\n",
       "      <td>AT1G01010</td>\n",
       "    </tr>\n",
       "    <tr>\n",
       "      <th>1</th>\n",
       "      <td>1</td>\n",
       "      <td>5928</td>\n",
       "      <td>8737</td>\n",
       "      <td>AT1G01020</td>\n",
       "    </tr>\n",
       "  </tbody>\n",
       "</table>\n",
       "</div>"
      ],
      "text/plain": [
       "  chrom  start   end       gene\n",
       "0     1   3631  5899  AT1G01010\n",
       "1     1   5928  8737  AT1G01020"
      ]
     },
     "execution_count": 3,
     "metadata": {},
     "output_type": "execute_result"
    }
   ],
   "source": [
    "genes = pd.read_csv(\"genes_bed_with_names.tsv\",sep=\"\\t\",names=[\"chrom\",\"start\",\"end\",\"gene\"])"
   ]
  },
  {
   "cell_type": "code",
   "execution_count": 7,
   "metadata": {},
   "outputs": [
    {
     "name": "stdout",
     "output_type": "stream",
     "text": [
      "working on gene: AT1G01010\n",
      "working on gene: AT1G01020\n",
      "working on gene: AT1G01030\n",
      "working on gene: AT1G01040\n",
      "working on gene: AT1G01046\n",
      "working on gene: AT1G01050\n",
      "working on gene: AT1G01060\n",
      "working on gene: AT1G01070\n",
      "working on gene: AT1G01073\n",
      "working on gene: AT1G01080\n"
     ]
    }
   ],
   "source": [
    "# to collect gene as key and marker as values\n",
    "gene_to_marker_dict = {}\n",
    "\n",
    "# two loops\n",
    "# outer loop iterates over each Arabidopsis gene\n",
    "# inner loop iterates over each marker\n",
    "for i in range(0,3,1): \n",
    "    # collect the chromosome + positions of gene number i\n",
    "    row = genes.iloc[i,:]\n",
    "    chrom_gene = row[\"chrom\"]\n",
    "    start_gene = row[\"start\"]\n",
    "    end_gene   = row[\"end\"]\n",
    "    gene       = row[\"gene\"]\n",
    "    \n",
    "    print(\"working on gene:\",gene)\n",
    "    \n",
    "    # find chromosome of gene and filter the chrom_pos_marker dataframe\n",
    "    chrom_pos_marker_filtered = chrom_pos_marker.query('chrom == @chrom_gene')\n",
    "    \n",
    "    # is the SNP marker position between start and end position of the gene number i?    \n",
    "    for j in range(0,chrom_pos_marker_filtered.shape[0],1):\n",
    "        marker_j = chrom_pos_marker_filtered.iloc[j,:]\n",
    "        if start_gene <= marker_j[\"pos\"] <= end_gene:\n",
    "            gene_to_marker_dict[gene] = marker_j[\"marker_id\"]\n"
   ]
  },
  {
   "cell_type": "code",
   "execution_count": 9,
   "metadata": {},
   "outputs": [
    {
     "data": {
      "text/html": [
       "<div>\n",
       "<style scoped>\n",
       "    .dataframe tbody tr th:only-of-type {\n",
       "        vertical-align: middle;\n",
       "    }\n",
       "\n",
       "    .dataframe tbody tr th {\n",
       "        vertical-align: top;\n",
       "    }\n",
       "\n",
       "    .dataframe thead th {\n",
       "        text-align: right;\n",
       "    }\n",
       "</style>\n",
       "<table border=\"1\" class=\"dataframe\">\n",
       "  <thead>\n",
       "    <tr style=\"text-align: right;\">\n",
       "      <th></th>\n",
       "      <th>gene</th>\n",
       "      <th>marker_id</th>\n",
       "    </tr>\n",
       "  </thead>\n",
       "  <tbody>\n",
       "    <tr>\n",
       "      <th>0</th>\n",
       "      <td>AT1G01010</td>\n",
       "      <td>5685_1</td>\n",
       "    </tr>\n",
       "    <tr>\n",
       "      <th>1</th>\n",
       "      <td>AT1G01020</td>\n",
       "      <td>8329_1</td>\n",
       "    </tr>\n",
       "    <tr>\n",
       "      <th>2</th>\n",
       "      <td>AT1G01030</td>\n",
       "      <td>13538_1</td>\n",
       "    </tr>\n",
       "    <tr>\n",
       "      <th>3</th>\n",
       "      <td>AT1G01040</td>\n",
       "      <td>31223_1</td>\n",
       "    </tr>\n",
       "    <tr>\n",
       "      <th>4</th>\n",
       "      <td>AT1G01046</td>\n",
       "      <td>28525_1</td>\n",
       "    </tr>\n",
       "    <tr>\n",
       "      <th>5</th>\n",
       "      <td>AT1G01050</td>\n",
       "      <td>32854_1</td>\n",
       "    </tr>\n",
       "    <tr>\n",
       "      <th>6</th>\n",
       "      <td>AT1G01060</td>\n",
       "      <td>37868_1</td>\n",
       "    </tr>\n",
       "    <tr>\n",
       "      <th>7</th>\n",
       "      <td>AT1G01070</td>\n",
       "      <td>40854_1</td>\n",
       "    </tr>\n",
       "    <tr>\n",
       "      <th>8</th>\n",
       "      <td>AT1G01073</td>\n",
       "      <td>44778_1</td>\n",
       "    </tr>\n",
       "    <tr>\n",
       "      <th>9</th>\n",
       "      <td>AT1G01080</td>\n",
       "      <td>46935_1</td>\n",
       "    </tr>\n",
       "  </tbody>\n",
       "</table>\n",
       "</div>"
      ],
      "text/plain": [
       "        gene marker_id\n",
       "0  AT1G01010    5685_1\n",
       "1  AT1G01020    8329_1\n",
       "2  AT1G01030   13538_1\n",
       "3  AT1G01040   31223_1\n",
       "4  AT1G01046   28525_1\n",
       "5  AT1G01050   32854_1\n",
       "6  AT1G01060   37868_1\n",
       "7  AT1G01070   40854_1\n",
       "8  AT1G01073   44778_1\n",
       "9  AT1G01080   46935_1"
      ]
     },
     "execution_count": 9,
     "metadata": {},
     "output_type": "execute_result"
    }
   ],
   "source": [
    "genes_with_marker = pd.DataFrame.from_dict(gene_to_marker_dict, orient = \"index\",columns=[\"marker_id\"])\n",
    "genes_with_marker.reset_index(level = 0, inplace = True)\n",
    "genes_with_marker = genes_with_marker.rename(columns={\"index\":\"gene\"})\n",
    "genes_with_marker"
   ]
  },
  {
   "cell_type": "code",
   "execution_count": 10,
   "metadata": {},
   "outputs": [],
   "source": [
    "genes_with_marker.to_csv(\"genes_with_marker_id.tsv\", sep = \"\\t\")"
   ]
  }
 ],
 "metadata": {
  "kernelspec": {
   "display_name": "Python 3",
   "language": "python",
   "name": "python3"
  },
  "language_info": {
   "codemirror_mode": {
    "name": "ipython",
    "version": 3
   },
   "file_extension": ".py",
   "mimetype": "text/x-python",
   "name": "python",
   "nbconvert_exporter": "python",
   "pygments_lexer": "ipython3",
   "version": "3.7.6"
  }
 },
 "nbformat": 4,
 "nbformat_minor": 4
}
